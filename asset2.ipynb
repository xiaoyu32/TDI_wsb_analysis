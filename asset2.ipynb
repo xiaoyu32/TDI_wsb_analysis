{
 "cells": [
  {
   "cell_type": "code",
   "execution_count": 9,
   "metadata": {},
   "outputs": [],
   "source": [
    "import numpy as np\n",
    "import pandas as pd\n",
    "import json\n",
    "import datetime\n",
    "import nltk\n",
    "from nltk.corpus import stopwords\n",
    "from operator import itemgetter \n",
    "import matplotlib.pyplot as plt"
   ]
  },
  {
   "cell_type": "code",
   "execution_count": 5,
   "metadata": {},
   "outputs": [],
   "source": [
    "with open('submission/data.json') as file:\n",
    "    data = file.read()\n",
    "    new_data = data.replace('}{', '},{')\n",
    "    json_data = json.loads(f'[{new_data}]')\n",
    "    \n",
    "submission = pd.DataFrame.from_records(json_data)\n",
    "\n",
    "submission_timed = submission\n",
    "submission_timed['time'] = pd.to_datetime(submission['time'])"
   ]
  },
  {
   "cell_type": "code",
   "execution_count": 41,
   "metadata": {},
   "outputs": [],
   "source": [
    "stock_list = ['GME', 'AMC','NAKD']\n",
    "close = {}\n",
    "\n",
    "\n",
    "for stock in stock_list:\n",
    "    raw = pd.read_csv(stock+'.csv')\n",
    "    timed = raw \n",
    "    timed['Date'] = pd.to_datetime(timed['Date'])\n",
    "\n",
    "    date = raw['Date'].to_list()\n",
    "    close[stock] = raw['Adj Close'].to_list()"
   ]
  },
  {
   "cell_type": "code",
   "execution_count": 44,
   "metadata": {},
   "outputs": [
    {
     "data": {
      "text/plain": [
       "126"
      ]
     },
     "execution_count": 44,
     "metadata": {},
     "output_type": "execute_result"
    }
   ],
   "source": [
    "len(gme_date)"
   ]
  },
  {
   "cell_type": "code",
   "execution_count": 45,
   "metadata": {},
   "outputs": [
    {
     "name": "stderr",
     "output_type": "stream",
     "text": [
      "/Users/xiaoyu/opt/anaconda3/lib/python3.7/site-packages/ipykernel_launcher.py:1: FutureWarning: Comparing Series of datetimes with 'datetime.date'.  Currently, the\n",
      "'datetime.date' is coerced to a datetime. In the future pandas will\n",
      "not coerce, and a TypeError will be raised. To retain the current\n",
      "behavior, convert the 'datetime.date' to a datetime with\n",
      "'pd.Timestamp'.\n",
      "  \"\"\"Entry point for launching an IPython kernel.\n"
     ]
    }
   ],
   "source": [
    "submission_wsb = submission_timed[submission_timed['time'] >= datetime.date(2020,8,13)]"
   ]
  },
  {
   "cell_type": "code",
   "execution_count": 48,
   "metadata": {},
   "outputs": [],
   "source": [
    "import collections\n",
    "\n",
    "date2submission = {}\n",
    "date2count = collections.defaultdict(dict)\n",
    "\n",
    "\n",
    "for date in date:\n",
    "    date2submission[date] = submission_gme[submission_gme['time'] == date]\n",
    "    for stock in stock_list:\n",
    "        date2count[stock][date] = date2submission[date]['title'].str.lower().str.count(stock.lower()).sum()"
   ]
  },
  {
   "cell_type": "code",
   "execution_count": 51,
   "metadata": {},
   "outputs": [],
   "source": [
    "count = {}\n",
    "\n",
    "for stock in stock_list:\n",
    "    count[stock] = [x for x in date2count[stock].values()]"
   ]
  },
  {
   "cell_type": "code",
   "execution_count": 52,
   "metadata": {},
   "outputs": [
    {
     "name": "stdout",
     "output_type": "stream",
     "text": [
      "For stock GME Pearson correlation between number of occurence and closing price the next day is 0.7703570005900581\n",
      "For stock AMC Pearson correlation between number of occurence and closing price the next day is 0.55164867195274\n",
      "For stock NAKD Pearson correlation between number of occurence and closing price the next day is 0.5627607481362962\n"
     ]
    }
   ],
   "source": [
    "from scipy.stats import pearsonr\n",
    "\n",
    "for stock in stock_list:\n",
    "    corr, _ = pearsonr(count[stock][:-1],close[stock][1:])\n",
    "    print('For stock '+stock+' Pearson correlation between number of occurence and closing price the next day is '+str(corr))"
   ]
  },
  {
   "cell_type": "markdown",
   "metadata": {},
   "source": [
    "The pearson correlation coefficient between the number of occurrences of stock name in title and the closing price next day are high for the three stocks considered, which suggests that they are closely correlated. This shows the potential of building a prediction model with features generated from r/wallstreetbets"
   ]
  },
  {
   "cell_type": "code",
   "execution_count": 60,
   "metadata": {},
   "outputs": [
    {
     "data": {
      "image/png": "[encoded data removed]",
      "text/plain": [
       "<Figure size 432x288 with 1 Axes>"
      ]
     },
     "metadata": {
      "needs_background": "light"
     },
     "output_type": "display_data"
    }
   ],
   "source": [
    "#from sklearn.preprocessing import normalize\n",
    "\n",
    "#normalized_count = count\n",
    "#normalized_close = close\n",
    "\n",
    "#for stock in stock_list:\n",
    "#    normalized_count[stock] = normalize(normalized_count[stock])\n",
    "#    normalized_close[stock] = normalize(normalized_close[stock])\n",
    "\n",
    "\n",
    "\n",
    "for stock in stock_list:\n",
    "    count_stock = np.array(count[stock][:-1])\n",
    "    close_stock = np.array(close[stock][1:])\n",
    "    plt.scatter(count_stock/max(count_stock), close_stock/max(close_stock))\n",
    "\n",
    "plt.xlabel('Number of occurrences in title')\n",
    "plt.ylabel('Next day closing price')\n",
    "plt.show()\n"
   ]
  },
  {
   "cell_type": "markdown",
   "metadata": {},
   "source": [
    "The above plot shows the closing price on the next day with respect to number of occurrences in the title in the previous day. Both quantities are normalized by their highest values. There seems be a correlation between these two quantities."
   ]
  },
  {
   "cell_type": "code",
   "execution_count": null,
   "metadata": {},
   "outputs": [],
   "source": []
  }
 ],
 "metadata": {
  "kernelspec": {
   "display_name": "Python 3",
   "language": "python",
   "name": "python3"
  },
  "language_info": {
   "codemirror_mode": {
    "name": "ipython",
    "version": 3
   },
   "file_extension": ".py",
   "mimetype": "text/x-python",
   "name": "python",
   "nbconvert_exporter": "python",
   "pygments_lexer": "ipython3",
   "version": "3.7.4"
  }
 },
 "nbformat": 4,
 "nbformat_minor": 2
}
