{
 "cells": [
  {
   "cell_type": "code",
   "execution_count": 203,
   "metadata": {},
   "outputs": [],
   "source": [
    "import numpy as np\n",
    "import pandas as pd\n",
    "import json\n",
    "import datetime\n",
    "import nltk\n",
    "from nltk.corpus import stopwords\n",
    "from operator import itemgetter \n",
    "import matplotlib.pyplot as plt"
   ]
  },
  {
   "cell_type": "code",
   "execution_count": 2,
   "metadata": {},
   "outputs": [],
   "source": [
    "with open('submission/data.json') as file:\n",
    "    data = file.read()\n",
    "    new_data = data.replace('}{', '},{')\n",
    "    json_data = json.loads(f'[{new_data}]')"
   ]
  },
  {
   "cell_type": "code",
   "execution_count": 5,
   "metadata": {},
   "outputs": [],
   "source": [
    "submission = pd.DataFrame.from_records(json_data)"
   ]
  },
  {
   "cell_type": "code",
   "execution_count": 25,
   "metadata": {},
   "outputs": [],
   "source": [
    "submission_timed = submission\n",
    "submission_timed['time'] = pd.to_datetime(submission['time'])"
   ]
  },
  {
   "cell_type": "code",
   "execution_count": 34,
   "metadata": {},
   "outputs": [
    {
     "name": "stderr",
     "output_type": "stream",
     "text": [
      "/Users/xiaoyu/opt/anaconda3/lib/python3.7/site-packages/ipykernel_launcher.py:1: FutureWarning: Comparing Series of datetimes with 'datetime.date'.  Currently, the\n",
      "'datetime.date' is coerced to a datetime. In the future pandas will\n",
      "not coerce, and a TypeError will be raised. To retain the current\n",
      "behavior, convert the 'datetime.date' to a datetime with\n",
      "'pd.Timestamp'.\n",
      "  \"\"\"Entry point for launching an IPython kernel.\n"
     ]
    }
   ],
   "source": [
    "submission_2020 = submission_timed[submission_timed['time'] >= datetime.date(2020,1,1)]"
   ]
  },
  {
   "cell_type": "code",
   "execution_count": 162,
   "metadata": {},
   "outputs": [
    {
     "data": {
      "text/html": [
       "<div>\n",
       "<style scoped>\n",
       "    .dataframe tbody tr th:only-of-type {\n",
       "        vertical-align: middle;\n",
       "    }\n",
       "\n",
       "    .dataframe tbody tr th {\n",
       "        vertical-align: top;\n",
       "    }\n",
       "\n",
       "    .dataframe thead th {\n",
       "        text-align: right;\n",
       "    }\n",
       "</style>\n",
       "<table border=\"1\" class=\"dataframe\">\n",
       "  <thead>\n",
       "    <tr style=\"text-align: right;\">\n",
       "      <th></th>\n",
       "      <th>author</th>\n",
       "      <th>title</th>\n",
       "      <th>score</th>\n",
       "      <th>time</th>\n",
       "    </tr>\n",
       "  </thead>\n",
       "  <tbody>\n",
       "    <tr>\n",
       "      <td>0</td>\n",
       "      <td>Still-Outside9111</td>\n",
       "      <td>GME Poker 😎🔥🤚💎</td>\n",
       "      <td>1</td>\n",
       "      <td>2021-02-12</td>\n",
       "    </tr>\n",
       "    <tr>\n",
       "      <td>1</td>\n",
       "      <td>Crypto_Saiyan</td>\n",
       "      <td>$AMC FTW!</td>\n",
       "      <td>1</td>\n",
       "      <td>2021-02-12</td>\n",
       "    </tr>\n",
       "    <tr>\n",
       "      <td>2</td>\n",
       "      <td>wallybet</td>\n",
       "      <td>Whoever Ends Up Going To These Hearings For Ga...</td>\n",
       "      <td>1</td>\n",
       "      <td>2021-02-12</td>\n",
       "    </tr>\n",
       "    <tr>\n",
       "      <td>3</td>\n",
       "      <td>enochou</td>\n",
       "      <td>🌈🐻 potential for REGI</td>\n",
       "      <td>1</td>\n",
       "      <td>2021-02-12</td>\n",
       "    </tr>\n",
       "    <tr>\n",
       "      <td>4</td>\n",
       "      <td>Tessiturax</td>\n",
       "      <td>Here’s a meme for ya</td>\n",
       "      <td>1</td>\n",
       "      <td>2021-02-12</td>\n",
       "    </tr>\n",
       "  </tbody>\n",
       "</table>\n",
       "</div>"
      ],
      "text/plain": [
       "              author                                              title  \\\n",
       "0  Still-Outside9111                                     GME Poker 😎🔥🤚💎   \n",
       "1      Crypto_Saiyan                                          $AMC FTW!   \n",
       "2           wallybet  Whoever Ends Up Going To These Hearings For Ga...   \n",
       "3            enochou                              🌈🐻 potential for REGI   \n",
       "4         Tessiturax                               Here’s a meme for ya   \n",
       "\n",
       "   score       time  \n",
       "0      1 2021-02-12  \n",
       "1      1 2021-02-12  \n",
       "2      1 2021-02-12  \n",
       "3      1 2021-02-12  \n",
       "4      1 2021-02-12  "
      ]
     },
     "execution_count": 162,
     "metadata": {},
     "output_type": "execute_result"
    }
   ],
   "source": [
    "submission_2020.head()"
   ]
  },
  {
   "cell_type": "code",
   "execution_count": 92,
   "metadata": {},
   "outputs": [],
   "source": [
    "nasdaq = pd.read_csv('nasdaq.csv')\n",
    "\n",
    "nasdaq_symbol = nasdaq['Symbol']\n",
    "nasdaq_market_cap = nasdaq['Market Cap']\n",
    "\n",
    "nasdaq_symbol_cap = {}\n",
    "\n",
    "for i, symbol in enumerate(nasdaq_symbol):\n",
    "    nasdaq_symbol_cap[symbol] = nasdaq_market_cap[i]"
   ]
  },
  {
   "cell_type": "code",
   "execution_count": 95,
   "metadata": {},
   "outputs": [],
   "source": [
    "nyse = pd.read_csv('nyse.csv')\n",
    "\n",
    "nyse_symbol = nyse['Symbol']\n",
    "nyse_market_cap = nyse['Market Cap']\n",
    "\n",
    "nyse_symbol_cap = {}\n",
    "\n",
    "for i, symbol in enumerate(nyse_symbol):\n",
    "    nyse_symbol_cap[symbol] = nyse_market_cap[i]"
   ]
  },
  {
   "cell_type": "code",
   "execution_count": 168,
   "metadata": {},
   "outputs": [],
   "source": [
    "#title_str = submission_2020['title'].str.lower().str.cat(sep=' ')\n",
    "title_str = submission_2020['title'].str.cat(sep=' ')\n",
    "\n",
    "from nltk.corpus import words\n",
    "\n",
    "#stop_words = set(stopwords.words('english'))  \n",
    "common_words = set(words.words())\n",
    "words = nltk.tokenize.word_tokenize(title_str)\n",
    "words_filtered = [w for w in words if not w.lower() in common_words]\n",
    "word_freq = nltk.FreqDist(words_filtered)"
   ]
  },
  {
   "cell_type": "code",
   "execution_count": 169,
   "metadata": {},
   "outputs": [],
   "source": [
    "stock_count = {}\n",
    "\n",
    "for symbol in nasdaq_symbol:\n",
    "    if symbol in word_freq:\n",
    "        stock_count[symbol] = word_freq[symbol]\n",
    "        \n",
    "for symbol in nyse_symbol:\n",
    "    if symbol in word_freq:\n",
    "        stock_count[symbol] = word_freq[symbol]"
   ]
  },
  {
   "cell_type": "code",
   "execution_count": 170,
   "metadata": {},
   "outputs": [],
   "source": [
    "count_per_cap = {}\n",
    "\n",
    "for symbol in stock_count:\n",
    "    if symbol in nasdaq_symbol_cap and nasdaq_symbol_cap[symbol]:\n",
    "        count_per_cap[symbol] = stock_count[symbol]/nasdaq_symbol_cap[symbol]\n",
    "    if symbol in nyse_symbol_cap and nyse_symbol_cap[symbol]:\n",
    "        count_per_cap[symbol] = stock_count[symbol]/nyse_symbol_cap[symbol]"
   ]
  },
  {
   "cell_type": "code",
   "execution_count": 183,
   "metadata": {},
   "outputs": [],
   "source": [
    "sort_count_per_cap = sorted(count_per_cap.items(), key = itemgetter(1))"
   ]
  },
  {
   "cell_type": "code",
   "execution_count": 212,
   "metadata": {},
   "outputs": [],
   "source": [
    "wsb_stock = sort_count_per_cap[-10:]"
   ]
  },
  {
   "cell_type": "code",
   "execution_count": 213,
   "metadata": {},
   "outputs": [],
   "source": [
    "wsb_stock_name = [stock[0] for stock in wsb_stock[::-1]]\n",
    "wsb_stock_count_per_cap = [stock[1] for stock in wsb_stock[::-1]]"
   ]
  },
  {
   "cell_type": "code",
   "execution_count": 215,
   "metadata": {},
   "outputs": [
    {
     "data": {
      "image/png": "[encoded data removed]",
      "text/plain": [
       "<Figure size 432x288 with 1 Axes>"
      ]
     },
     "metadata": {
      "needs_background": "light"
     },
     "output_type": "display_data"
    }
   ],
   "source": [
    "x_pos = [i for i, _ in enumerate(wsb_stock_name)]\n",
    "\n",
    "plt.bar(x_pos, wsb_stock_count_per_cap)\n",
    "plt.xlabel(\"Stock\")\n",
    "plt.ylabel(\"Stock symbol frequency per market cap\")\n",
    "plt.title(\"Top 10 stocks mentioned in WSB (symbol frequency per market cap)\")\n",
    "\n",
    "plt.xticks(x_pos, wsb_stock_name)\n",
    "\n",
    "plt.show()"
   ]
  },
  {
   "cell_type": "code",
   "execution_count": null,
   "metadata": {},
   "outputs": [],
   "source": []
  }
 ],
 "metadata": {
  "kernelspec": {
   "display_name": "Python 3",
   "language": "python",
   "name": "python3"
  },
  "language_info": {
   "codemirror_mode": {
    "name": "ipython",
    "version": 3
   },
   "file_extension": ".py",
   "mimetype": "text/x-python",
   "name": "python",
   "nbconvert_exporter": "python",
   "pygments_lexer": "ipython3",
   "version": "3.7.4"
  }
 },
 "nbformat": 4,
 "nbformat_minor": 2
}
